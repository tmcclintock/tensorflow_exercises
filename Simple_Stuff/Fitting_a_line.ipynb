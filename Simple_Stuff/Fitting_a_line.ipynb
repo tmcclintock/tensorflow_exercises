{
 "cells": [
  {
   "cell_type": "markdown",
   "metadata": {},
   "source": [
    "# Fitting a line with TF\n",
    "This is a TF implementation of the \"fitting a line to data\" exercise from Hogg's paper."
   ]
  },
  {
   "cell_type": "code",
   "execution_count": 1,
   "metadata": {},
   "outputs": [],
   "source": [
    "import numpy as np\n",
    "import tensorflow as tf\n",
    "import matplotlib.pyplot as plt\n",
    "%matplotlib inline"
   ]
  },
  {
   "cell_type": "code",
   "execution_count": 2,
   "metadata": {},
   "outputs": [
    {
     "data": {
      "text/plain": [
       "<ErrorbarContainer object of 3 artists>"
      ]
     },
     "execution_count": 2,
     "metadata": {},
     "output_type": "execute_result"
    },
    {
     "data": {
      "image/png": "[encoded data removed]",
      "text/plain": [
       "<Figure size 432x288 with 1 Axes>"
      ]
     },
     "metadata": {
      "needs_background": "light"
     },
     "output_type": "display_data"
    }
   ],
   "source": [
    "_, x_all, y_all, sigy_all, _, _ = np.genfromtxt(\"data.txt\", unpack=True, \n",
    "                                                delimiter='&', \n",
    "                                                skip_header=1)\n",
    "x    = x_all[4:]\n",
    "y    = y_all[4:]\n",
    "sigy = sigy_all[4:] #For now we skip the first 4 points\n",
    "plt.errorbar(x, y, sigy, ls='', marker='.')"
   ]
  },
  {
   "cell_type": "code",
   "execution_count": 3,
   "metadata": {},
   "outputs": [],
   "source": [
    "#Define a PGM\n",
    "#Placeholder for the data\n",
    "X = tf.placeholder(dtype=tf.float32)\n",
    "Y = tf.placeholder(dtype=tf.float32)\n",
    "SIGY = tf.placeholder(dtype=tf.float32)\n",
    "\n",
    "#Parameter guesses\n",
    "m = tf.Variable(initial_value=np.random.normal(loc=1, scale=1),\n",
    "                  dtype=tf.float32)\n",
    "b = tf.Variable(initial_value=np.random.normal(loc=1, scale=1),\n",
    "                  dtype=tf.float32)"
   ]
  },
  {
   "cell_type": "code",
   "execution_count": 4,
   "metadata": {},
   "outputs": [],
   "source": [
    "#Linear model\n",
    "model = tf.add(tf.multiply(X, m), b)"
   ]
  },
  {
   "cell_type": "code",
   "execution_count": 5,
   "metadata": {},
   "outputs": [],
   "source": [
    "LEARNING_RATE = 0.01\n",
    "MAX_ITER = 1000\n",
    "TOL_PARAM, TOL_CHI2 = 1e-3, 1e-3\n",
    "\n",
    "#Chi2 minimization\n",
    "#chi2 = tf.reduce_sum(tf.divide(tf.pow(Y-model, 2), tf.pow(SIGY,2)))\n",
    "chi2 = tf.reduce_sum(tf.pow(Y-model, 2)/SIGY**2)\n",
    "optimizer = tf.train.AdamOptimizer(learning_rate=LEARNING_RATE)\n",
    "#optimizer = tf.train.GradientDescentOptimizer(learning_rate = LEARNING_RATE)\n",
    "train_op = optimizer.minimize(chi2)"
   ]
  },
  {
   "cell_type": "code",
   "execution_count": 6,
   "metadata": {},
   "outputs": [
    {
     "name": "stdout",
     "output_type": "stream",
     "text": [
      "Chi2 convergence in 86 iterations.\n"
     ]
    }
   ],
   "source": [
    "with tf.Session() as sess:\n",
    "    sess.run(fetches=tf.global_variables_initializer())\n",
    "    \n",
    "    i = 1\n",
    "    obs_m, obs_b = sess.run(fetches=[[m], [b]])\n",
    "    obs_chi2 = sess.run(fetches=[chi2], feed_dict={X: x, Y:y, SIGY: sigy})\n",
    "    \n",
    "    while True:\n",
    "        sess.run(fetches=train_op, feed_dict={X: x, Y:y, SIGY: sigy})\n",
    "        \n",
    "        #Update parameters\n",
    "        new_m, new_b = sess.run(fetches=[m, b])\n",
    "        diff_norm = np.linalg.norm(np.subtract([new_m, new_b],\n",
    "                                              [obs_m[-1], obs_b[-1]]))\n",
    "        #Update chi2\n",
    "        new_chi2 = sess.run(fetches=chi2, feed_dict={X: x, Y:y, SIGY: sigy})\n",
    "        chi2_diff = np.abs(new_chi2 - obs_chi2[-1])\n",
    "        \n",
    "        obs_m.append(new_m)\n",
    "        obs_b.append(new_b)\n",
    "        obs_chi2.append(new_chi2)\n",
    "        \n",
    "        if diff_norm < TOL_PARAM:\n",
    "            print('Parameter convergence in {} iterations.'.format(i))\n",
    "            break\n",
    "        if chi2_diff < TOL_CHI2:\n",
    "            print('Chi2 convergence in {} iterations.'.format(i))\n",
    "            break\n",
    "        if i >= MAX_ITER:\n",
    "            print('Max iterations reached without convergence.')\n",
    "            break\n",
    "        i += 1"
   ]
  },
  {
   "cell_type": "code",
   "execution_count": 7,
   "metadata": {},
   "outputs": [
    {
     "data": {
      "text/plain": [
       "[<matplotlib.lines.Line2D at 0xb22b96a50>]"
      ]
     },
     "execution_count": 7,
     "metadata": {},
     "output_type": "execute_result"
    },
    {
     "data": {
      "image/png": "[encoded data removed]",
      "text/plain": [
       "<Figure size 432x288 with 1 Axes>"
      ]
     },
     "metadata": {
      "needs_background": "light"
     },
     "output_type": "display_data"
    }
   ],
   "source": [
    "#Best model\n",
    "ind = np.argmin(obs_chi2)\n",
    "m_best = obs_m[ind]\n",
    "b_best = obs_b[ind]\n",
    "plt.errorbar(x, y, sigy, ls='', marker='.')\n",
    "xp = np.linspace(min(x),max(x))\n",
    "yp = m_best*xp + b_best\n",
    "plt.plot(xp, yp)"
   ]
  },
  {
   "cell_type": "code",
   "execution_count": null,
   "metadata": {},
   "outputs": [],
   "source": []
  }
 ],
 "metadata": {
  "kernelspec": {
   "display_name": "Python 2",
   "language": "python",
   "name": "python2"
  },
  "language_info": {
   "codemirror_mode": {
    "name": "ipython",
    "version": 2
   },
   "file_extension": ".py",
   "mimetype": "text/x-python",
   "name": "python",
   "nbconvert_exporter": "python",
   "pygments_lexer": "ipython2",
   "version": "2.7.13"
  }
 },
 "nbformat": 4,
 "nbformat_minor": 2
}
